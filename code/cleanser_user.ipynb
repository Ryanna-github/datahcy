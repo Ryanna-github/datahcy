{
 "cells": [
  {
   "cell_type": "markdown",
   "metadata": {},
   "source": [
    "# 数据清洗-用户信息\n",
    "\n",
    "up 主信息：`../data/user/user_up_clean.csv`，评论者信息：`../data/user/user_com_clean.csv`, 所有相关用户信息整合：`../data/user/user_full_clean.csv`（该表为上面两个表信息整合，多了 `is_up` 字段区分up主信息还是评论者信息，若一个用户既是up主又是评论者，会被记录两次）"
   ]
  },
  {
   "cell_type": "code",
   "execution_count": 16,
   "metadata": {},
   "outputs": [],
   "source": [
    "import pandas as pd\n",
    "import numpy as np\n",
    "import re\n",
    "import os\n",
    "import time\n",
    "import datetime\n",
    "from tqdm import tqdm"
   ]
  },
  {
   "cell_type": "markdown",
   "metadata": {},
   "source": [
    "## Up 主信息"
   ]
  },
  {
   "cell_type": "code",
   "execution_count": 7,
   "metadata": {},
   "outputs": [
    {
     "data": {
      "text/plain": [
       "(567, 34)"
      ]
     },
     "execution_count": 7,
     "metadata": {},
     "output_type": "execute_result"
    }
   ],
   "source": [
    "# up 主未清洗的信息\n",
    "udf_up = pd.read_csv('../data/user/user_up.csv', encoding='ANSI')\n",
    "udf_up.shape"
   ]
  },
  {
   "cell_type": "code",
   "execution_count": 8,
   "metadata": {},
   "outputs": [],
   "source": [
    "udf_up = udf_up.drop(['whisper', 'black', 'face', 'face_nft', 'rank', 'jointime', 'moral', 'silence', 'fans_medal', 'fans_badge'], axis = 1)\n",
    "udf_up = udf_up.drop(['vip', 'pendant', 'nameplate', 'user_honour_info', 'is_followed', 'top_photo','profession', 'tags', 'official', ], axis = 1)\n",
    "udf_up = udf_up.drop(['theme', 'sys_notice', 'live_room', 'school', 'series', 'is_senior_member', 'coins', 'birthday'], axis = 1)"
   ]
  },
  {
   "cell_type": "code",
   "execution_count": 9,
   "metadata": {},
   "outputs": [
    {
     "data": {
      "text/plain": [
       "Index(['mid', 'following', 'follower', 'name', 'sex', 'sign', 'level',\n",
       "       'is_up'],\n",
       "      dtype='object')"
      ]
     },
     "execution_count": 9,
     "metadata": {},
     "output_type": "execute_result"
    }
   ],
   "source": [
    "udf_up['is_up'] = 1\n",
    "udf_up.columns"
   ]
  },
  {
   "cell_type": "code",
   "execution_count": 10,
   "metadata": {},
   "outputs": [],
   "source": [
    "udf_up.to_csv(\"../data/user/user_up_clean.csv\", index=False, header=True, encoding=\"utf-8\")"
   ]
  },
  {
   "cell_type": "markdown",
   "metadata": {},
   "source": [
    "## 评论者信息"
   ]
  },
  {
   "cell_type": "code",
   "execution_count": 14,
   "metadata": {},
   "outputs": [],
   "source": [
    "path_r = \"../data/reply/reply_by_bvid_clean\"\n",
    "path_r2 = \"../data/reply/reply_by_bvid_clean_simple\"\n",
    "replies = os.listdir(path_r)"
   ]
  },
  {
   "cell_type": "code",
   "execution_count": 17,
   "metadata": {},
   "outputs": [
    {
     "name": "stderr",
     "output_type": "stream",
     "text": [
      "100%|██████████| 961/961 [00:19<00:00, 49.27it/s]\n"
     ]
    }
   ],
   "source": [
    "udf_list = []\n",
    "for file in tqdm(replies):\n",
    "    df = pd.read_csv(path_r + '\\\\' + file)\n",
    "    udf = df[['mid', 'uname', 'sex', 'sign', 'level']].rename(columns={\"uname\":\"name\"})\n",
    "    udf_list.append(udf)\n",
    "    df = df.drop(['uname', 'sex', 'sign', 'level'], axis = 1)\n",
    "    # save\n",
    "    df.to_csv(path_r2 + \"\\\\\" + file, index=False, header=True, encoding=\"utf-8\")\n",
    "    # print(path_r2 + \"\\\\\" + file)"
   ]
  },
  {
   "cell_type": "code",
   "execution_count": 18,
   "metadata": {},
   "outputs": [],
   "source": [
    "udf_follow = pd.read_csv('../data/user/user_com.csv')"
   ]
  },
  {
   "cell_type": "code",
   "execution_count": 22,
   "metadata": {},
   "outputs": [
    {
     "data": {
      "text/plain": [
       "(254634, 908079)"
      ]
     },
     "execution_count": 22,
     "metadata": {},
     "output_type": "execute_result"
    }
   ],
   "source": [
    "udf = pd.concat(udf_list, axis = 0)\n",
    "len(set(udf['mid'])), len(udf['mid'])"
   ]
  },
  {
   "cell_type": "code",
   "execution_count": 23,
   "metadata": {},
   "outputs": [],
   "source": [
    "udf = udf.drop_duplicates('mid', keep = 'first') # 去重"
   ]
  },
  {
   "cell_type": "code",
   "execution_count": 24,
   "metadata": {},
   "outputs": [
    {
     "data": {
      "text/plain": [
       "(254499, 254631)"
      ]
     },
     "execution_count": 24,
     "metadata": {},
     "output_type": "execute_result"
    }
   ],
   "source": [
    "len(set(udf_follow['mid'])), len(udf_follow['mid'])"
   ]
  },
  {
   "cell_type": "code",
   "execution_count": 26,
   "metadata": {},
   "outputs": [],
   "source": [
    "udf_com = pd.merge(udf, udf_follow)\n",
    "udf_com['is_up'] = 0\n",
    "# udf_com"
   ]
  },
  {
   "cell_type": "code",
   "execution_count": 28,
   "metadata": {},
   "outputs": [],
   "source": [
    "# 记录缺失信息用户\n",
    "# umiss = pd.DataFrame({\"mid\":list(set(udf_follow['mid']).difference(set(udf['mid'])))}).merge(udf_follow)\n",
    "# umiss.to_csv(r'D:\\Ryanna\\RUC_courses\\Y1_2\\市调大赛\\data\\user\\user_miss.csv', index = False, header= True, encoding = \"utf-8\")"
   ]
  },
  {
   "cell_type": "code",
   "execution_count": 108,
   "metadata": {},
   "outputs": [],
   "source": [
    "# 查看重复数值\n",
    "# df1=udf.groupby([\"mid\"]).size()\n",
    "# col=df1[df1>1].reset_index()[[\"mid\"]]\n",
    "# pd.merge(col,udf,on=[\"mid\"]).to_csv(\"tmp.csv\")"
   ]
  },
  {
   "cell_type": "code",
   "execution_count": 30,
   "metadata": {},
   "outputs": [
    {
     "data": {
      "text/plain": [
       "314"
      ]
     },
     "execution_count": 30,
     "metadata": {},
     "output_type": "execute_result"
    }
   ],
   "source": [
    "# 既是up主又是评论者人数\n",
    "len(list(set(udf_up['mid']).intersection(set(udf_com['mid']))))"
   ]
  },
  {
   "cell_type": "code",
   "execution_count": 31,
   "metadata": {},
   "outputs": [],
   "source": [
    "udf_full = pd.concat([udf_up, udf_com], axis = 0)"
   ]
  },
  {
   "cell_type": "code",
   "execution_count": 34,
   "metadata": {},
   "outputs": [
    {
     "data": {
      "text/plain": [
       "(255198, 254752)"
      ]
     },
     "execution_count": 34,
     "metadata": {},
     "output_type": "execute_result"
    }
   ],
   "source": [
    "len(udf_full['mid']), len(set(udf_full['mid']))"
   ]
  },
  {
   "cell_type": "code",
   "execution_count": 35,
   "metadata": {},
   "outputs": [],
   "source": [
    "udf_up.to_csv('../data/user/user_up_clean.csv', index = False, header= True, encoding = \"utf-8\")\n",
    "udf_com.to_csv('../data/user/user_com_clean.csv', index = False, header= True, encoding = \"utf-8\")\n",
    "udf_full.to_csv('../data/user/user_full_clean.csv', index = False, header= True, encoding = \"utf-8\")"
   ]
  },
  {
   "cell_type": "code",
   "execution_count": null,
   "metadata": {},
   "outputs": [],
   "source": []
  }
 ],
 "metadata": {
  "interpreter": {
   "hash": "c08a55a6eebc439b8cb45989c46d4451034fce34bfbe42cc181a6949183841d7"
  },
  "kernelspec": {
   "display_name": "Python 3.8.5 ('base')",
   "language": "python",
   "name": "python3"
  },
  "language_info": {
   "codemirror_mode": {
    "name": "ipython",
    "version": 3
   },
   "file_extension": ".py",
   "mimetype": "text/x-python",
   "name": "python",
   "nbconvert_exporter": "python",
   "pygments_lexer": "ipython3",
   "version": "3.8.5"
  },
  "orig_nbformat": 4
 },
 "nbformat": 4,
 "nbformat_minor": 2
}
