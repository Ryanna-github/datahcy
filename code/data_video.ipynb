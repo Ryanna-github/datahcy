{
 "cells": [
  {
   "cell_type": "markdown",
   "metadata": {},
   "source": [
    "# 获取视频信息数据\n",
    "\n",
    "已有视频链接信息，获取点赞数，播放量，视频标签等详细信息，结果保存在 `../data/video/video_final.csv`"
   ]
  },
  {
   "cell_type": "code",
   "execution_count": 19,
   "metadata": {},
   "outputs": [],
   "source": [
    "import pandas as pd\n",
    "import numpy as np\n",
    "import re\n",
    "import requests\n",
    "import json\n",
    "import time\n",
    "from tqdm import tqdm"
   ]
  },
  {
   "cell_type": "code",
   "execution_count": 20,
   "metadata": {},
   "outputs": [],
   "source": [
    "df = pd.read_csv(\"../data/video/video.csv\")\n",
    "df = df.rename(columns={'标题_链接':'v_link', \"标题\": \"v_name\", \"时间\": \"v_time\", \"图片\": \"v_img\", \"关键词\": \"v_dur\", \"关键词1\": \"v_key1\", \"数量\": \"v_num_play\", \"名称\": \"u_id\", \"名称_链接\": \"u_link\"})\n",
    "# 去除多余换行符\n",
    "df_ori = df[['v_time', 'v_num_play']]\n",
    "df[\"v_num_play\"] = [re.compile('\\n|\\ ').sub(\"\", df_ori[\"v_num_play\"][i]) for i in range(df_ori.shape[0])]\n",
    "df[\"v_time\"] = [re.compile('\\n|\\ ').sub(\"\", df_ori[\"v_time\"][i]) for i in range(df_ori.shape[0])]\n",
    "df[\"u_id\"] = [re.findall(r'[1-9]+\\.?[0-9]*',t)[0] for t in df['u_link']]\n",
    "df[\"v_id\"] = df.apply(lambda x: x['v_link'][31:43], axis = 1)"
   ]
  },
  {
   "cell_type": "code",
   "execution_count": 21,
   "metadata": {},
   "outputs": [
    {
     "data": {
      "text/plain": [
       "((961, 10), (961, 10))"
      ]
     },
     "execution_count": 21,
     "metadata": {},
     "output_type": "execute_result"
    }
   ],
   "source": [
    "df.shape, df.drop_duplicates().shape"
   ]
  },
  {
   "cell_type": "code",
   "execution_count": 22,
   "metadata": {},
   "outputs": [],
   "source": [
    "df.to_csv(\"../data/video/video_clean_v1.csv\", index = False, header=True)\n",
    "df = pd.read_csv(\"../data/video/video_clean_v1.csv\")"
   ]
  },
  {
   "cell_type": "code",
   "execution_count": 8,
   "metadata": {},
   "outputs": [],
   "source": [
    "# 得到视频相关基本信息\n",
    "def get_info_v(vid):\n",
    "    time.sleep(np.random.uniform(low=0.1, high=0.5, size=1).item())\n",
    "    payload={}\n",
    "    headers = {}\n",
    "    url=\"http://api.bilibili.com/x/web-interface/view?bvid={}\".format(vid)\n",
    "    response = requests.request(\"GET\", url, headers=headers, data=payload)\n",
    "    info=json.loads(response.text)\n",
    "    info_stat = info['data']['stat']\n",
    "    info_dic = {\"v_id\": vid,\n",
    "                \"aid\": info_stat['aid'],\n",
    "                \"cid\": info['data']['cid'],\n",
    "                \"reply\": info_stat['reply'],\n",
    "                \"danmu\": info_stat['danmaku'],\n",
    "                \"favorite\": info_stat['favorite'],\n",
    "                \"coin\": info_stat['coin'],\n",
    "                \"share\": info_stat['share'],\n",
    "                \"like\": info_stat['like'],\n",
    "                \"dislike\": info_stat['dislike'],\n",
    "                \"tname\": info['data']['tname']}\n",
    "    return info_dic"
   ]
  },
  {
   "cell_type": "markdown",
   "metadata": {},
   "source": [
    "---"
   ]
  },
  {
   "cell_type": "code",
   "execution_count": null,
   "metadata": {},
   "outputs": [],
   "source": [
    "vid_list = df['v_id'].to_list()\n",
    "info_add_list = []\n",
    "for vid in tqdm(vid_list):\n",
    "    try:\n",
    "        info_add = get_info_v(vid)\n",
    "        info_add_list.append(info_add)\n",
    "    except:\n",
    "        print(vid)\n",
    "info_add = pd.DataFrame(info_add_list)"
   ]
  },
  {
   "cell_type": "code",
   "execution_count": 41,
   "metadata": {},
   "outputs": [],
   "source": [
    "df = pd.concat([df, info_add], axis = 1)"
   ]
  },
  {
   "cell_type": "code",
   "execution_count": 23,
   "metadata": {},
   "outputs": [],
   "source": [
    "# info_add.to_csv(\"../data/video_info.csv\", index = False, header = True)\n",
    "info_add = pd.read_csv(\"../data/video/video_info.csv\")"
   ]
  },
  {
   "cell_type": "code",
   "execution_count": 33,
   "metadata": {},
   "outputs": [],
   "source": [
    "# df = pd.concat([df, info_add], axis = 1)\n",
    "df = df.merge(info_add, on = \"v_id\")"
   ]
  },
  {
   "cell_type": "code",
   "execution_count": 37,
   "metadata": {},
   "outputs": [
    {
     "name": "stdout",
     "output_type": "stream",
     "text": [
      "0-50-100-150-200-250-300-350-400-450-500-550-600-650-700-750-800-850-900-950-"
     ]
    }
   ],
   "source": [
    "# 补变量 tag，和其他基本信息api不同，不可同时获取\n",
    "vid_list = df['v_id']\n",
    "tags = []\n",
    "for i, vid in enumerate(vid_list):\n",
    "    time.sleep(np.random.uniform(low=0.2, high=0.5, size=1).item())\n",
    "    payload={}\n",
    "    headers = {}\n",
    "    url=\"https://api.bilibili.com/x/tag/archive/tags?aid={}\".format(df['aid'][i])\n",
    "    response = requests.request(\"GET\", url, headers=headers, data=payload)\n",
    "    try:\n",
    "        info=json.loads(response.text)\n",
    "        # 避免以逗号分割，以免和csv分隔符装车\n",
    "        tags.append(\"*\".join([t['tag_name'] for t in info['data']]))\n",
    "    except:\n",
    "        print(i, vid)\n",
    "    if i % 50 == 0:\n",
    "        print(i, end = \"-\")"
   ]
  },
  {
   "cell_type": "code",
   "execution_count": 43,
   "metadata": {},
   "outputs": [],
   "source": [
    "df['tag'] = tags\n",
    "df['tag_num'] = [len(t.split(\"*\")) for t in tags]\n",
    "df.to_csv(\"../data/video/video_clean_v2.csv\", index=False, header=True)"
   ]
  },
  {
   "cell_type": "code",
   "execution_count": null,
   "metadata": {},
   "outputs": [],
   "source": []
  },
  {
   "cell_type": "code",
   "execution_count": null,
   "metadata": {},
   "outputs": [],
   "source": []
  }
 ],
 "metadata": {
  "interpreter": {
   "hash": "c08a55a6eebc439b8cb45989c46d4451034fce34bfbe42cc181a6949183841d7"
  },
  "kernelspec": {
   "display_name": "Python 3",
   "language": "python",
   "name": "python3"
  },
  "language_info": {
   "codemirror_mode": {
    "name": "ipython",
    "version": 3
   },
   "file_extension": ".py",
   "mimetype": "text/x-python",
   "name": "python",
   "nbconvert_exporter": "python",
   "pygments_lexer": "ipython3",
   "version": "3.8.5"
  }
 },
 "nbformat": 4,
 "nbformat_minor": 2
}
