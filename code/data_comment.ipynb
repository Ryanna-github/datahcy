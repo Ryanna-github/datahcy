{
 "cells": [
  {
   "cell_type": "markdown",
   "metadata": {},
   "source": [
    "# 获取各视频评论数据\n",
    "\n",
    "已有视频链接信息，获取详细评论信息（不包括对评论的评论），每个视频文件评论单独成文件，清洗后的结果保存在 `../data/reply/reply_by_bvid_raw/` 中。"
   ]
  },
  {
   "cell_type": "code",
   "execution_count": 1,
   "metadata": {},
   "outputs": [],
   "source": [
    "import requests\n",
    "import json\n",
    "import pandas as pd\n",
    "from tqdm import tqdm\n",
    "import time\n",
    "import datetime\n",
    "import pandas as pd\n",
    "import numpy as np\n",
    "import os"
   ]
  },
  {
   "cell_type": "code",
   "execution_count": 2,
   "metadata": {},
   "outputs": [],
   "source": [
    "def get_comment_raw(oid, maxpage):\n",
    "    rs = []\n",
    "    time.sleep(np.random.uniform(low=0.1, high=0.5, size=1).item())\n",
    "    for i in range(1, maxpage):\n",
    "        time.sleep(np.random.uniform(low=0.05, high=0.4, size=1).item())\n",
    "        url = \"https://api.bilibili.com/x/v2/reply/main?jsonp=jsonp&next={}&type=1&oid={}&sort=2\".format(i, oid)\n",
    "        payload={}\n",
    "        headers = {}\n",
    "        response = requests.request(\"GET\", url, headers=headers, data=payload)\n",
    "        r = response.text\n",
    "        rs.append(r)\n",
    "    return rs"
   ]
  },
  {
   "cell_type": "code",
   "execution_count": 3,
   "metadata": {},
   "outputs": [],
   "source": [
    "def parse_comment(comment_onepage):\n",
    "    replies = []\n",
    "    for i, r in enumerate(comment_onepage):\n",
    "        comm_text = json.loads(r)\n",
    "        try:\n",
    "            replies.extend(comm_text['data'][\"replies\"])\n",
    "        except:\n",
    "            continue\n",
    "    return replies"
   ]
  },
  {
   "cell_type": "code",
   "execution_count": 4,
   "metadata": {},
   "outputs": [],
   "source": [
    "df = pd.read_csv(\"../data/video/video_final.csv\")\n",
    "df_use = df.iloc[:,:].reset_index()\n",
    "maxpages = (df_use['reply']//20 + 2).to_list() # 评论最大页数"
   ]
  },
  {
   "cell_type": "code",
   "execution_count": null,
   "metadata": {},
   "outputs": [],
   "source": [
    "vid_done = [t[6:18] for t in os.listdir('../data/reply/reply_by_bvid_raw')]\n",
    "len(vid_done), len(df['v_id']), len(set(df['v_id']).difference(set(vid_done)))\n",
    "# 代码中途出错后，只再获取没有拿到评论的视频，对应 id 保存在 vid_left 中\n",
    "# 若视频评论区设置不可见，则无法获取信息"
   ]
  },
  {
   "cell_type": "code",
   "execution_count": 8,
   "metadata": {},
   "outputs": [
    {
     "data": {
      "text/plain": [
       "['BV1LW411L7h7', 'BV1WW411g7qW']"
      ]
     },
     "execution_count": 8,
     "metadata": {},
     "output_type": "execute_result"
    }
   ],
   "source": [
    "vid_left = list(set(df['v_id']).difference(set(vid_done)))\n",
    "vid_left"
   ]
  },
  {
   "cell_type": "code",
   "execution_count": 9,
   "metadata": {},
   "outputs": [],
   "source": [
    "df_use = df[df['v_id'].isin(vid_left)].reset_index()\n",
    "maxpages = (df_use['reply']//20 + 2).to_list()"
   ]
  },
  {
   "cell_type": "code",
   "execution_count": 10,
   "metadata": {},
   "outputs": [
    {
     "name": "stdout",
     "output_type": "stream",
     "text": [
      "174 22041882 BV1LW411L7h7 64\n",
      "BV1LW411L7h7\n",
      "285 21097888 BV1WW411g7qW 2\n",
      "BV1WW411g7qW\n"
     ]
    }
   ],
   "source": [
    "f = open(\"../logs/comment_log.txt\", \"a\")\n",
    "for i, vid in enumerate(df_use['v_id']):\n",
    "    print(np.where(df['v_id'] == vid)[0][0],df_use['aid'][i], vid, maxpages[i])\n",
    "    cr = get_comment_raw(df_use['aid'][i], maxpage = maxpages[i])\n",
    "    cm = parse_comment(cr)\n",
    "    vdf = pd.DataFrame(cm)\n",
    "    if vdf.shape[0] < 2:\n",
    "        print(vid)\n",
    "        continue\n",
    "    vdf.to_csv(\"../data/reply/reply_{}.csv\".format(vid), index=False, header=True, encoding=\"UTF-8\")\n",
    "    f.write(\"\\n{}\\t num:{}\\t vid:{}\\t len:{}\".format(datetime.datetime.now().strftime('%Y-%m-%d %H:%M:%S'),\n",
    "                                        i, vid, vdf.shape[0]))\n",
    "    print(\"../data/reply_{}.csv\".format(vid))\n",
    "f.write(\"\\n====================================================================\")\n",
    "f.close()"
   ]
  },
  {
   "cell_type": "code",
   "execution_count": null,
   "metadata": {},
   "outputs": [],
   "source": []
  }
 ],
 "metadata": {
  "interpreter": {
   "hash": "c08a55a6eebc439b8cb45989c46d4451034fce34bfbe42cc181a6949183841d7"
  },
  "kernelspec": {
   "display_name": "Python 3",
   "language": "python",
   "name": "python3"
  },
  "language_info": {
   "codemirror_mode": {
    "name": "ipython",
    "version": 3
   },
   "file_extension": ".py",
   "mimetype": "text/x-python",
   "name": "python",
   "nbconvert_exporter": "python",
   "pygments_lexer": "ipython3",
   "version": "3.8.5"
  }
 },
 "nbformat": 4,
 "nbformat_minor": 2
}
