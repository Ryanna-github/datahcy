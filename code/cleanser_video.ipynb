{
 "cells": [
  {
   "cell_type": "markdown",
   "metadata": {},
   "source": [
    "# 数据清洗-视频内容\n",
    "\n",
    "格式更改，时长，日期等数据清洗。"
   ]
  },
  {
   "cell_type": "code",
   "execution_count": 37,
   "metadata": {},
   "outputs": [],
   "source": [
    "import pandas as pd\n",
    "import numpy as np\n",
    "import re"
   ]
  },
  {
   "cell_type": "code",
   "execution_count": 39,
   "metadata": {},
   "outputs": [],
   "source": [
    "df = pd.read_csv(\"../data/video/video_clean_v2.csv\", encoding=\"ANSI\")\n",
    "df = df.drop(['v_key1', 'dislike'], axis = 1)"
   ]
  },
  {
   "cell_type": "code",
   "execution_count": 40,
   "metadata": {},
   "outputs": [],
   "source": [
    "def time2second(s):\n",
    "    try:\n",
    "        m, s = s.strip().split(\":\")\n",
    "        return int(m)*60 + int(s)\n",
    "    except:\n",
    "        h, m, s = s.strip().split(\":\")\n",
    "        return int(h)*60*60 + int(m)*60 + int(s)\n",
    "\n",
    "def numplay_num(s):\n",
    "    num = float(re.findall(r\"[0-9|.]+\", s)[0])\n",
    "    if \"万\" in s:\n",
    "        num = num * 10000\n",
    "    return int(num)"
   ]
  },
  {
   "cell_type": "code",
   "execution_count": 41,
   "metadata": {},
   "outputs": [],
   "source": [
    "df['v_dur'] = [time2second(t) for t in df['v_dur']] # 转化h:m:s为纯秒数时长\n",
    "df['v_num_play'] = [numplay_num(t) for t in df['v_num_play']] # 转化播放量为纯数字"
   ]
  },
  {
   "cell_type": "code",
   "execution_count": null,
   "metadata": {},
   "outputs": [],
   "source": [
    "df.to_csv(\"../data/video/video_final.csv\", index=False, header=True, encoding=\"UTF-8\")"
   ]
  }
 ],
 "metadata": {
  "interpreter": {
   "hash": "c08a55a6eebc439b8cb45989c46d4451034fce34bfbe42cc181a6949183841d7"
  },
  "kernelspec": {
   "display_name": "Python 3.8.5 ('base')",
   "language": "python",
   "name": "python3"
  },
  "language_info": {
   "codemirror_mode": {
    "name": "ipython",
    "version": 3
   },
   "file_extension": ".py",
   "mimetype": "text/x-python",
   "name": "python",
   "nbconvert_exporter": "python",
   "pygments_lexer": "ipython3",
   "version": "3.8.5"
  },
  "orig_nbformat": 4
 },
 "nbformat": 4,
 "nbformat_minor": 2
}
