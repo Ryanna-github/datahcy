{
 "cells": [
  {
   "cell_type": "markdown",
   "metadata": {},
   "source": [
    "# 获取所有相关用户个人信息\n",
    "\n",
    "已有用户 id，获取用户粉丝数，关注数等信息。up 主还需单独获取其性别，生日等信息，评论者这部分信息在拿评论信息时已得到，直接合并即可，对应结果保存在 `../data/user/user_full.csv`（其中 `is_up` 字段用来区分 up 主还是普通评论者）"
   ]
  },
  {
   "cell_type": "code",
   "execution_count": 51,
   "metadata": {},
   "outputs": [],
   "source": [
    "import pandas as pd\n",
    "import requests\n",
    "import json\n",
    "from tqdm import tqdm\n",
    "import time \n",
    "import numpy as np\n",
    "import os\n",
    "import datetime\n",
    "import random"
   ]
  },
  {
   "cell_type": "code",
   "execution_count": 52,
   "metadata": {},
   "outputs": [],
   "source": [
    "ua_list = [\"Mozilla/5.0 (Windows NT 6.1; WOW64) AppleWebKit/537.1 (KHTML, like Gecko) Chrome/22.0.1207.1 Safari/537.1\",\n",
    "           \"Mozilla/5.0 (X11; CrOS i686 2268.111.0) AppleWebKit/536.11 (KHTML, like Gecko) Chrome/20.0.1132.57 Safari/536.11\",\n",
    "           \"Mozilla/5.0 (Windows NT 6.1; WOW64) AppleWebKit/536.6 (KHTML, like Gecko) Chrome/20.0.1092.0 Safari/536.6\",\n",
    "           \"Mozilla/5.0 (Windows NT 6.2) AppleWebKit/536.6 (KHTML, like Gecko) Chrome/20.0.1090.0 Safari/536.6\",\n",
    "           \"Mozilla/5.0 (Windows NT 6.2; WOW64) AppleWebKit/537.1 (KHTML, like Gecko) Chrome/19.77.34.5 Safari/537.1\",\n",
    "           \"Mozilla/5.0 (X11; Linux x86_64) AppleWebKit/536.5 (KHTML, like Gecko) Chrome/19.0.1084.9 Safari/536.5\",\n",
    "           \"Mozilla/5.0 (Windows NT 6.0) AppleWebKit/536.5 (KHTML, like Gecko) Chrome/19.0.1084.36 Safari/536.5\",\n",
    "           \"Mozilla/5.0 (Windows NT 6.1; WOW64) AppleWebKit/536.3 (KHTML, like Gecko) Chrome/19.0.1063.0 Safari/536.3\",\n",
    "           \"Mozilla/5.0 (Windows NT 5.1) AppleWebKit/536.3 (KHTML, like Gecko) Chrome/19.0.1063.0 Safari/536.3\",\n",
    "           \"Mozilla/5.0 (Macintosh; Intel Mac OS X 10_8_0) AppleWebKit/536.3 (KHTML, like Gecko) Chrome/19.0.1063.0 Safari/536.3\",\n",
    "           \"Mozilla/5.0 (Windows NT 6.2) AppleWebKit/536.3 (KHTML, like Gecko) Chrome/19.0.1062.0 Safari/536.3\",\n",
    "           \"Mozilla/5.0 (Windows NT 6.1; WOW64) AppleWebKit/536.3 (KHTML, like Gecko) Chrome/19.0.1062.0 Safari/536.3\",\n",
    "           \"Mozilla/5.0 (Windows NT 6.2) AppleWebKit/536.3 (KHTML, like Gecko) Chrome/19.0.1061.1 Safari/536.3\",\n",
    "           \"Mozilla/5.0 (Windows NT 6.1; WOW64) AppleWebKit/536.3 (KHTML, like Gecko) Chrome/19.0.1061.1 Safari/536.3\",\n",
    "           \"Mozilla/5.0 (Windows NT 6.1) AppleWebKit/536.3 (KHTML, like Gecko) Chrome/19.0.1061.1 Safari/536.3\",\n",
    "           \"Mozilla/5.0 (Windows NT 6.2) AppleWebKit/536.3 (KHTML, like Gecko) Chrome/19.0.1061.0 Safari/536.3\",\n",
    "           \"Mozilla/5.0 (X11; Linux x86_64) AppleWebKit/535.24 (KHTML, like Gecko) Chrome/19.0.1055.1 Safari/535.24\",\n",
    "           \"Mozilla/5.0 (Windows NT 6.2; WOW64) AppleWebKit/535.24 (KHTML, like Gecko) Chrome/19.0.1055.1 Safari/535.24\",\n",
    "           ]\n",
    "headers1 = {\n",
    "    'user-agent': random.choice(ua_list)\n",
    "}"
   ]
  },
  {
   "cell_type": "code",
   "execution_count": 57,
   "metadata": {},
   "outputs": [],
   "source": [
    "def get_user(uid, type, low = 0.1, high = 0.4):\n",
    "    time.sleep(np.random.uniform(low=low, high=high, size=1).item())\n",
    "    if type == \"info\" or type == \"i\":\n",
    "        # 频率快容易别拦截，只对up主获取该链接内容\n",
    "        url = \"https://api.bilibili.com/x/space/acc/info?mid={}&jsonp=jsonp\".format(uid)\n",
    "    elif type == \"follow\" or type == \"f\":\n",
    "        # 一般不会有问题\n",
    "        url = \"https://api.bilibili.com/x/relation/stat?vmid={}&jsonp=jsonp\".format(uid)\n",
    "    elif type == \"number\" or type == \"n\":\n",
    "        # 极容易被拦截，后放弃\n",
    "        url = \"https://api.bilibili.com/x/space/upstat?mid={}&jsonp=jsonp\".format(uid)\n",
    "    else:\n",
    "        print(\"Wrong type\")\n",
    "    payload={}\n",
    "    headers = {}\n",
    "    response = requests.request(\"GET\", url, headers=headers1, data=payload)\n",
    "    try:\n",
    "        info_dic = json.loads(response.text)['data']\n",
    "    except:\n",
    "        print(response.text)\n",
    "        print(uid, \"fail at:\\t\", url)\n",
    "        return {\"mid\": uid}\n",
    "    return info_dic"
   ]
  },
  {
   "cell_type": "markdown",
   "metadata": {},
   "source": [
    "# Upper\n",
    "\n",
    "粉丝数和关注数一般不会出问题，但是其他信息容易被拦截，最好间隔时间设置大一点，一次运行完，不要连续 debug"
   ]
  },
  {
   "cell_type": "code",
   "execution_count": null,
   "metadata": {},
   "outputs": [],
   "source": [
    "df = pd.read_csv(\"../data/video/video_final.csv\", encoding=\"UTF-8\")\n",
    "uid_list = set(df[\"u_id\"])"
   ]
  },
  {
   "cell_type": "code",
   "execution_count": null,
   "metadata": {},
   "outputs": [
    {
     "data": {
      "text/plain": [
       "567"
      ]
     },
     "metadata": {},
     "output_type": "display_data"
    }
   ],
   "source": [
    "len(uid_list)"
   ]
  },
  {
   "cell_type": "code",
   "execution_count": null,
   "metadata": {},
   "outputs": [
    {
     "name": "stderr",
     "output_type": "stream",
     "text": [
      " 46%|████▌     | 262/567 [05:34<05:54,  1.16s/it]"
     ]
    },
    {
     "name": "stdout",
     "output_type": "stream",
     "text": [
      "{\"code\":-404,\"message\":\"啥都木有\",\"ttl\":1}\n",
      "451972012 fail at:\t https://api.bilibili.com/x/space/acc/info?mid=451972012&jsonp=jsonp\n"
     ]
    },
    {
     "name": "stderr",
     "output_type": "stream",
     "text": [
      "100%|██████████| 567/567 [11:39<00:00,  1.23s/it]\n"
     ]
    }
   ],
   "source": [
    "uinfo = {\"follow\":[], \"info\": []}\n",
    "for uid in tqdm(uid_list):\n",
    "    for key in uinfo.keys():\n",
    "        uinfo[key].append(get_user(uid, key))\n",
    "    if not uinfo['info'][-1]:\n",
    "        print(uid)\n",
    "        print(len(uinfo['info']))\n",
    "        break"
   ]
  },
  {
   "cell_type": "code",
   "execution_count": null,
   "metadata": {},
   "outputs": [],
   "source": [
    "udf = pd.merge(pd.DataFrame(uinfo['follow']), pd.DataFrame(uinfo['info']))\n",
    "udf.to_csv(\"../data/user/user_up.csv\", index = False, header = True, encoding = \"utf-8\")"
   ]
  },
  {
   "cell_type": "markdown",
   "metadata": {},
   "source": [
    "# Comment User\n",
    "\n",
    "此处仅获取粉丝数和关注数"
   ]
  },
  {
   "cell_type": "code",
   "execution_count": 53,
   "metadata": {},
   "outputs": [
    {
     "name": "stderr",
     "output_type": "stream",
     "text": [
      "100%|██████████| 961/961 [00:22<00:00, 42.57it/s]\n"
     ]
    }
   ],
   "source": [
    "path_r = \"../data/reply\"\n",
    "replies = os.listdir(path_r)\n",
    "uid_list = []\n",
    "for file in tqdm(replies):\n",
    "    try:\n",
    "        try:\n",
    "            r = pd.read_csv(path_r + \"/\" + file)\n",
    "        except:\n",
    "            r = pd.read_csv(path_r + \"/\" + file, encoding=\"ANSI\")\n",
    "    except:\n",
    "        print(file)\n",
    "    uid_list.extend(r['mid'])"
   ]
  },
  {
   "cell_type": "code",
   "execution_count": 54,
   "metadata": {},
   "outputs": [
    {
     "data": {
      "text/plain": [
       "(908079, 254634)"
      ]
     },
     "execution_count": 54,
     "metadata": {},
     "output_type": "execute_result"
    }
   ],
   "source": [
    "len(uid_list), len(set(uid_list))"
   ]
  },
  {
   "cell_type": "code",
   "execution_count": 55,
   "metadata": {},
   "outputs": [],
   "source": [
    "uid_list = list(set(uid_list))"
   ]
  },
  {
   "cell_type": "code",
   "execution_count": 60,
   "metadata": {},
   "outputs": [
    {
     "name": "stderr",
     "output_type": "stream",
     "text": [
      " 12%|█▏        | 7915/66000 [36:14<4:09:53,  3.87it/s] IOPub message rate exceeded.\n",
      "The notebook server will temporarily stop sending output\n",
      "to the client in order to avoid crashing it.\n",
      "To change this limit, set the config variable\n",
      "`--NotebookApp.iopub_msg_rate_limit`.\n",
      "\n",
      "Current values:\n",
      "NotebookApp.iopub_msg_rate_limit=1000.0 (msgs/sec)\n",
      "NotebookApp.rate_limit_window=3.0 (secs)\n",
      "\n",
      " 22%|██▏       | 14620/66000 [1:06:51<2:53:02,  4.95it/s]IOPub message rate exceeded.\n",
      "The notebook server will temporarily stop sending output\n",
      "to the client in order to avoid crashing it.\n",
      "To change this limit, set the config variable\n",
      "`--NotebookApp.iopub_msg_rate_limit`.\n",
      "\n",
      "Current values:\n",
      "NotebookApp.iopub_msg_rate_limit=1000.0 (msgs/sec)\n",
      "NotebookApp.rate_limit_window=3.0 (secs)\n",
      "\n",
      " 55%|█████▍    | 36246/66000 [2:45:54<2:29:46,  3.31it/s]IOPub message rate exceeded.\n",
      "The notebook server will temporarily stop sending output\n",
      "to the client in order to avoid crashing it.\n",
      "To change this limit, set the config variable\n",
      "`--NotebookApp.iopub_msg_rate_limit`.\n",
      "\n",
      "Current values:\n",
      "NotebookApp.iopub_msg_rate_limit=1000.0 (msgs/sec)\n",
      "NotebookApp.rate_limit_window=3.0 (secs)\n",
      "\n",
      " 70%|███████   | 46336/66000 [3:31:52<1:40:58,  3.25it/s]IOPub message rate exceeded.\n",
      "The notebook server will temporarily stop sending output\n",
      "to the client in order to avoid crashing it.\n",
      "To change this limit, set the config variable\n",
      "`--NotebookApp.iopub_msg_rate_limit`.\n",
      "\n",
      "Current values:\n",
      "NotebookApp.iopub_msg_rate_limit=1000.0 (msgs/sec)\n",
      "NotebookApp.rate_limit_window=3.0 (secs)\n",
      "\n",
      " 82%|████████▏ | 54152/66000 [4:07:16<46:58,  4.20it/s]  IOPub message rate exceeded.\n",
      "The notebook server will temporarily stop sending output\n",
      "to the client in order to avoid crashing it.\n",
      "To change this limit, set the config variable\n",
      "`--NotebookApp.iopub_msg_rate_limit`.\n",
      "\n",
      "Current values:\n",
      "NotebookApp.iopub_msg_rate_limit=1000.0 (msgs/sec)\n",
      "NotebookApp.rate_limit_window=3.0 (secs)\n",
      "\n",
      " 94%|█████████▍| 62010/66000 [4:43:17<22:42,  2.93it/s]IOPub message rate exceeded.\n",
      "The notebook server will temporarily stop sending output\n",
      "to the client in order to avoid crashing it.\n",
      "To change this limit, set the config variable\n",
      "`--NotebookApp.iopub_msg_rate_limit`.\n",
      "\n",
      "Current values:\n",
      "NotebookApp.iopub_msg_rate_limit=1000.0 (msgs/sec)\n",
      "NotebookApp.rate_limit_window=3.0 (secs)\n",
      "\n"
     ]
    }
   ],
   "source": [
    "# 每 1000 个会保存一个临时文件保存中间结果，记得删除\n",
    "uinfo = {\"follow\":[], \"info\": []}\n",
    "i = 0\n",
    "f = open(\"../logs/user_log.txt\", \"a\")\n",
    "f.write(\"\\n===================================================\\n\")\n",
    "f.close()\n",
    "for uid in tqdm(uid_list):\n",
    "    uinfo['follow'].append(get_user(uid, \"follow\", 0.05, 0.25))\n",
    "    if not uinfo['follow'][-1]:\n",
    "        print(\"follow \", uid, i)\n",
    "        f = open(\"../logs/user_log.txt\", \"a\")\n",
    "        f.write(\"\\n{}\\t exmpty follow of: {} (No.{})\".format(datetime.datetime.now().strftime('%Y-%m-%d %H:%M:%S'), uid, i))\n",
    "        f.close()\n",
    "        uinfo['follow'][-1] = {\"mid\":uid}\n",
    "        time.sleep(5)\n",
    "    # 临时保存\n",
    "    if len(uinfo['follow']) % 1000 == 0:\n",
    "        udf = pd.DataFrame(uinfo['follow'])\n",
    "        udf.to_csv(\"../data/user/user_com_{}_{}.csv\".format(len(uinfo['follow']), datetime.datetime.now().strftime('%Y-%m-%d-%H-%M-%S')),header=True, index=False, encoding=\"utf-8\")\n",
    "udf = pd.DataFrame(uinfo['follow'])\n",
    "udf.to_csv(\"../data/user/user_com.csv\".format(file[6:-4]),header=True, index=False, encoding=\"utf-8\")"
   ]
  },
  {
   "cell_type": "markdown",
   "metadata": {},
   "source": []
  }
 ],
 "metadata": {
  "interpreter": {
   "hash": "c08a55a6eebc439b8cb45989c46d4451034fce34bfbe42cc181a6949183841d7"
  },
  "kernelspec": {
   "display_name": "Python 3",
   "language": "python",
   "name": "python3"
  },
  "language_info": {
   "codemirror_mode": {
    "name": "ipython",
    "version": 3
   },
   "file_extension": ".py",
   "mimetype": "text/x-python",
   "name": "python",
   "nbconvert_exporter": "python",
   "pygments_lexer": "ipython3",
   "version": "3.6.9"
  }
 },
 "nbformat": 4,
 "nbformat_minor": 2
}
